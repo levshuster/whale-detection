{
 "cells": [
  {
   "cell_type": "code",
   "execution_count": 2,
   "metadata": {},
   "outputs": [],
   "source": [
    "import glob\n",
    "import os\n",
    "\n",
    "def check_file_path(number_of_samples:int):\n",
    "\tsource_path= './train_png/'\n",
    "\tif not os.path.exists(source_path):\n",
    "\t\traise ValueError('Can not find the image files, make sure you have followed the steps in the input/images folder readme')\n",
    "\n",
    "\toutput_path= f'./{number_of_samples}-samples/'\n",
    "\tif not os.path.exists(output_path):\n",
    "\t\tos.makedirs(output_path)\n",
    "\treturn source_path, output_path\n",
    "\n",
    "def get_list_of_files(source_path:str):\n",
    "\ttrain_files= glob.glob(source_path+'train*.png')\n",
    "\ttrain_files = [(int(i[len(source_path)+5:-4]), i) for i in glob.glob(source_path+'train*.png')]\n",
    "\ttrain_files.sort()\n",
    "\treturn train_files\n",
    "\n",
    "def copy_files_to_sample_folder(train_files:list, output_path:str, number_of_samples:int):\n",
    "\tfirst_n= [i[1] for i in train_files][:number_of_samples]\n",
    "\tfor file in first_n:\n",
    "\t\tif not os.path.exists(output_path+file.split('/')[-1]): os.system(f'cp {file} {output_path}')\n",
    "\t\telse: print(f'{file} already exists in the train folder')\n",
    "\n"
   ]
  },
  {
   "cell_type": "code",
   "execution_count": 4,
   "metadata": {},
   "outputs": [
    {
     "name": "stdout",
     "output_type": "stream",
     "text": [
      "(1, './train_png/train1.png')\n",
      "(2, './train_png/train2.png')\n",
      "(3, './train_png/train3.png')\n",
      "(4, './train_png/train4.png')\n",
      "(5, './train_png/train5.png')\n"
     ]
    }
   ],
   "source": [
    "number_of_samples = 10000\n",
    "source_path, output_path = check_file_path(number_of_samples)\n",
    "train_files = get_list_of_files(source_path)\n",
    "copy_files_to_sample_folder(train_files, output_path, number_of_samples)\n",
    "\n",
    "f\"A folder of {number_of_samples} samples has been created out of {len(train_files)} total samples\""
   ]
  }
 ],
 "metadata": {
  "kernelspec": {
   "display_name": ".venv",
   "language": "python",
   "name": "python3"
  },
  "language_info": {
   "codemirror_mode": {
    "name": "ipython",
    "version": 3
   },
   "file_extension": ".py",
   "mimetype": "text/x-python",
   "name": "python",
   "nbconvert_exporter": "python",
   "pygments_lexer": "ipython3",
   "version": "3.11.4"
  },
  "orig_nbformat": 4
 },
 "nbformat": 4,
 "nbformat_minor": 2
}
