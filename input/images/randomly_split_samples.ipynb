{
 "cells": [
  {
   "cell_type": "code",
   "execution_count": 29,
   "metadata": {},
   "outputs": [],
   "source": [
    "source_folder = './train_png-bined'\n",
    "source_whale_present = source_folder+'/whale present'\n",
    "source_whale_absent = source_folder+'/no whale'\n",
    "\n",
    "max_num_images_in_condition = 5500\n",
    "# max_num_images_in_condition = float('inf')\n",
    "training_to_testing_ratio = 0.8\n",
    "\n",
    "destination_folder = './training_testing/random-'+str(max_num_images_in_condition)+'-'+str(training_to_testing_ratio)\n"
   ]
  },
  {
   "cell_type": "code",
   "execution_count": 30,
   "metadata": {},
   "outputs": [],
   "source": [
    "# make destination folders\n",
    "\n",
    "import os\n",
    "\n",
    "no_whale = [destination_folder + i for i in ['/training/no whale','/testing/no whale']]\n",
    "whale_present = [destination_folder + i for i in ['/training/whale present','/testing/whale present']]\n",
    "training, testing = 0,1\n",
    "\n",
    "\n",
    "if os.path.exists(destination_folder):\n",
    "\tprint('Destination folder already exists')\n",
    "else:\n",
    "\tfor i in no_whale + whale_present: os.makedirs(i)"
   ]
  },
  {
   "cell_type": "code",
   "execution_count": 31,
   "metadata": {},
   "outputs": [],
   "source": [
    "import shutil\n",
    "import random\n",
    "\n",
    "\n",
    "for source, destinations in [\n",
    "\t(source_whale_present, whale_present),\n",
    "\t(source_whale_absent, no_whale)\n",
    "]:\n",
    "\tfor filename in os.listdir(source):\n",
    "\t\tif random.random() < training_to_testing_ratio:\n",
    "\t\t\tdestination = destinations[training]\n",
    "\t\telse:\n",
    "\t\t\tdestination = destinations[testing]\n",
    "\t\tshutil.copyfile(source+'/'+filename, destination+'/'+filename)\n",
    "\t\t# if the number of files is equal to or greater than the max_num_images_in_condition, break\n",
    "\t\tif len(os.listdir(destination)) >= max_num_images_in_condition: \n",
    "\t\t\tprint(f\"there are {max_num_images_in_condition} images in {destination}\")\n",
    "\t\t\tbreak\n",
    "\n",
    "# for source, training_destination, testing_destination in [\n",
    "# \t(source_whale_present, destination_folder+'/training/whale present', destination_folder+'/testing/whale present'),\n",
    "# \t(source_whale_absent, destination_folder+'/training/no whale', destination_folder+'/testing/no whale')\n",
    "# ]:\n",
    "# \t# for each image in source folder, copy to training or testing folder based on random probability\n",
    "# \timport random\n",
    "# \timport shutil\n",
    "# \tfor filename in os.listdir(source):\n",
    "# \t\tif random.random() < training_to_testing_ratio:\n",
    "# \t\t\tshutil.copyfile(source+'/'+filename, training_destination+'/'+filename)\n",
    "# \t\telse:\n",
    "# \t\t\tshutil.copyfile(source+'/'+filename, testing_destination+'/'+filename)\n",
    "\n",
    "# for each image in source whale present folder, copy to training whale present folder or testing whale present folder based on random probability\n",
    "# for each image in source whale absent folder, copy to training whale absent folder or testing whale absent folder based on random probability"
   ]
  },
  {
   "cell_type": "code",
   "execution_count": 32,
   "metadata": {},
   "outputs": [
    {
     "name": "stdout",
     "output_type": "stream",
     "text": [
      " number of files in ./training_testing/random-inf-0.8/training/no whale: 18453\n",
      " number of files in ./training_testing/random-inf-0.8/testing/no whale: 4520\n",
      " number of files in ./training_testing/random-inf-0.8/training/whale present: 5637\n",
      " number of files in ./training_testing/random-inf-0.8/testing/whale present: 1390\n"
     ]
    }
   ],
   "source": [
    "# len(os.listdir(destination))\n",
    "# print the number of files in each destination folder\n",
    "print(f\" number of files in {no_whale[training]}: {len(os.listdir(no_whale[training]))}\")\n",
    "print(f\" number of files in {no_whale[testing]}: {len(os.listdir(no_whale[testing]))}\")\n",
    "print(f\" number of files in {whale_present[training]}: {len(os.listdir(whale_present[training]))}\")\n",
    "print(f\" number of files in {whale_present[testing]}: {len(os.listdir(whale_present[testing]))}\")"
   ]
  }
 ],
 "metadata": {
  "kernelspec": {
   "display_name": "Python 3",
   "language": "python",
   "name": "python3"
  },
  "language_info": {
   "codemirror_mode": {
    "name": "ipython",
    "version": 3
   },
   "file_extension": ".py",
   "mimetype": "text/x-python",
   "name": "python",
   "nbconvert_exporter": "python",
   "pygments_lexer": "ipython3",
   "version": "3.11.7"
  },
  "orig_nbformat": 4
 },
 "nbformat": 4,
 "nbformat_minor": 2
}
