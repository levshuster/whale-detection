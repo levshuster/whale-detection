{
 "cells": [
  {
   "cell_type": "code",
   "execution_count": 2,
   "metadata": {},
   "outputs": [],
   "source": [
    "import glob\n",
    "import librosa\n",
    "import matplotlib.pyplot as plt\n",
    "import numpy as np\n",
    "import os\n",
    "import soundfile as sf\n",
    "from tqdm import tqdm"
   ]
  },
  {
   "attachments": {},
   "cell_type": "markdown",
   "metadata": {},
   "source": [
    "The frequency range of right whales moans is typically between 100 and 500 Hz, with most energy concentrated aorund 200 Hz. The moans are usually produced at a fundamental frequency of around 100 Hz, but contain a series of harmonics and ovetones that extend up to 500 Hz.\n",
    "\n",
    "the spectrogram generated from the audio files will be filtered to only include frequencies in the range of 0 Hz to 500 Hz."
   ]
  },
  {
   "cell_type": "code",
   "execution_count": 3,
   "metadata": {},
   "outputs": [],
   "source": [
    "def get_images(samples,sr,output_path):\n",
    "\thop_length = 40\n",
    "\tS = librosa.feature.melspectrogram(\n",
    "\t\ty=samples,\n",
    "\t\tsr=sr,\n",
    "\t\tn_fft=200,\n",
    "\t\thop_length=hop_length,\n",
    "\t\tn_mels=50,\n",
    "\t\tfmax=500\n",
    "\t)\n",
    "\tS_db = librosa.power_to_db(\n",
    "\t\tS, \n",
    "\t\tref=np.max\n",
    "\t)\n",
    "\tplt.subplots(figsize=(2,2))\n",
    "\tlibrosa.display.specshow(\n",
    "\t\tS_db,\n",
    "\t\tx_axis='time',\n",
    "\t\ty_axis='linear',\n",
    "\t\tsr=sr,\n",
    "\t\thop_length=hop_length, \n",
    "\t)\n",
    "\tplt.axis('off')\n",
    "\tplt.tight_layout()\n",
    "\tplt.savefig(\n",
    "\t\toutput_path, \n",
    "\t\tdpi=150, \n",
    "\t\tformat='png' , \n",
    "\t\tbbox_inches='tight', \n",
    "\t\tpad_inches=0\n",
    "\t)\n",
    "\tplt.close()\n"
   ]
  },
  {
   "cell_type": "code",
   "execution_count": 4,
   "metadata": {},
   "outputs": [
    {
     "data": {
      "text/plain": [
       "['../audio/data/train/train8696.aiff',\n",
       " '../audio/data/train/train86.aiff',\n",
       " '../audio/data/train/train24166.aiff',\n",
       " '../audio/data/train/train13215.aiff',\n",
       " '../audio/data/train/train9984.aiff']"
      ]
     },
     "execution_count": 4,
     "metadata": {},
     "output_type": "execute_result"
    }
   ],
   "source": [
    "output_path= './train_png/'\n",
    "if not os.path.exists(output_path):\n",
    "\tos.makedirs(output_path)\n",
    "\n",
    "source_path= '../audio/data/train/'\n",
    "if not os.path.exists(source_path):\n",
    "\traise ValueError('Can not find the audio files, make sure you have followed the steps in the audio folder readme')\n",
    "\n",
    "train_files= glob.glob(source_path+'train*.aiff')\n",
    "train_files[:5]"
   ]
  },
  {
   "cell_type": "code",
   "execution_count": 5,
   "metadata": {},
   "outputs": [
    {
     "name": "stderr",
     "output_type": "stream",
     "text": [
      "Proccesing files: 100%|██████████| 30000/30000 [1:07:11<00:00,  7.44it/s]\n"
     ]
    }
   ],
   "source": [
    "for input_file in tqdm(train_files,desc='Proccesing files'):\n",
    "\taudio_data, sr = sf.read(input_file)\n",
    "\toutput_file = os.path.join(\n",
    "\t\toutput_path, \n",
    "\t\tos.path.splitext(os.path.basename(input_file))[0] + '.png'\n",
    "\t)\n",
    "\tget_images(audio_data, sr, output_file)"
   ]
  }
 ],
 "metadata": {
  "kernelspec": {
   "display_name": ".venv",
   "language": "python",
   "name": "python3"
  },
  "language_info": {
   "codemirror_mode": {
    "name": "ipython",
    "version": 3
   },
   "file_extension": ".py",
   "mimetype": "text/x-python",
   "name": "python",
   "nbconvert_exporter": "python",
   "pygments_lexer": "ipython3",
   "version": "3.11.4"
  },
  "orig_nbformat": 4
 },
 "nbformat": 4,
 "nbformat_minor": 2
}
