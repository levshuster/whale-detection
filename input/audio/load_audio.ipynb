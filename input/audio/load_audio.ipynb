{
 "cells": [
  {
   "cell_type": "code",
   "execution_count": 5,
   "metadata": {},
   "outputs": [],
   "source": [
    "import os\n",
    "import zipfile\n",
    "import requests"
   ]
  },
  {
   "cell_type": "code",
   "execution_count": null,
   "metadata": {},
   "outputs": [],
   "source": [
    "def download_file(url, filename):\n",
    "\tif not os.path.exists(filename):\n",
    "\t\twith open(filename, 'wb') as f:\n",
    "\t\t\tf.write(requests.get(url, stream=True).content)\n",
    "\t\t\tprint('File downloaded successfully')\n",
    "\telse: print('File already exists')\n",
    "\n",
    "\n",
    "def unzip_file(filename, folder):\n",
    "\tif not os.path.exists(filename):\n",
    "\t\tprint('File does not exist')\n",
    "\t\treturn\n",
    "\telse : \n",
    "\t\twith zipfile.ZipFile(filename, 'r') as zip_ref:\n",
    "\t\t\tzip_ref.extractall(folder)\n",
    "\t\t\tprint('File unzipped successfully')"
   ]
  },
  {
   "cell_type": "code",
   "execution_count": 6,
   "metadata": {},
   "outputs": [
    {
     "name": "stdout",
     "output_type": "stream",
     "text": [
      "File already exists\n",
      "File unzipped successfully\n"
     ]
    }
   ],
   "source": [
    "filename = 'RightWhaleCalls.zip'\n",
    "\n",
    "download_file(\n",
    "\turl = 'https://www.timeseriesclassification.com/aeon-toolkit/RightWhaleCalls.zip',\n",
    "\tfilename = filename\n",
    ")\n",
    "\n",
    "unzip_file(\n",
    "\tfilename = filename, \n",
    "\tfolder = 'RightWhaleCalls'\n",
    ")"
   ]
  }
 ],
 "metadata": {
  "kernelspec": {
   "display_name": ".venv",
   "language": "python",
   "name": "python3"
  },
  "language_info": {
   "codemirror_mode": {
    "name": "ipython",
    "version": 3
   },
   "file_extension": ".py",
   "mimetype": "text/x-python",
   "name": "python",
   "nbconvert_exporter": "python",
   "pygments_lexer": "ipython3",
   "version": "3.11.4"
  },
  "orig_nbformat": 4
 },
 "nbformat": 4,
 "nbformat_minor": 2
}
