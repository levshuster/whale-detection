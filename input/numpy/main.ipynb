{
 "cells": [
  {
   "cell_type": "code",
   "execution_count": 6,
   "metadata": {},
   "outputs": [],
   "source": [
    "# %pip install pandas\n",
    "# %pip freeze > requirements.txt"
   ]
  },
  {
   "cell_type": "code",
   "execution_count": 7,
   "metadata": {},
   "outputs": [
    {
     "name": "stdout",
     "output_type": "stream",
     "text": [
      " starting work on /2000-samples/\n",
      "(2000, 255, 255, 3)\n",
      "(2000, 195075)\n",
      " starting work on /train_png/\n",
      "(30000, 255, 255, 3)\n",
      "(30000, 195075)\n"
     ]
    }
   ],
   "source": [
    "\n",
    "import numpy as np\n",
    "import pandas\n",
    "import sys\n",
    "sys.path.append('../../')\n",
    "\n",
    "from helper import make_folder_if_not_exists, get_list_of_files\n",
    "from PIL import Image\n",
    "\n",
    "for folder in ['/100-samples/', '/2000-samples/', '/train_png/']:\n",
    "\t# Generate X\n",
    "\tprint(f\" starting work on {folder}\")\n",
    "\tmake_folder_if_not_exists(f'.{folder}')\n",
    "\tpngs = get_list_of_files(f'../images/{folder}')\n",
    "\tx = np.array([np.asarray(Image.open(i))[:,:,:3] for i in pngs])\n",
    "\tprint(x.shape)\n",
    "\t# save x using np.save\n",
    "\tnp.save(f'.{folder}/x.npy', x)\n",
    "\n",
    "\tx = x.reshape(x.shape[0], -1)\n",
    "\t# save_pickle(x, f'.{folder}/x_flatten.pkl')\n",
    "\tnp.save(f'.{folder}/x_flatten.npy', x)\n",
    "\tprint(x.shape)\n",
    "\n",
    "\t# Generate Y\n",
    "\ty = pandas.read_csv('../../input/audio/data/train.csv')\n",
    "\ty = y[\"label\"][:len(x)]\n",
    "\ty.shape\n",
    "\tnp.save(f'.{folder}/y.npy', y)\n"
   ]
  },
  {
   "cell_type": "code",
   "execution_count": 8,
   "metadata": {},
   "outputs": [
    {
     "name": "stdout",
     "output_type": "stream",
     "text": [
      "1 -> Whale Present\n"
     ]
    }
   ],
   "source": [
    "from helper import y_int_to_str\n",
    "print(f\"1 -> {y_int_to_str(1)}\")\n"
   ]
  },
  {
   "cell_type": "code",
   "execution_count": 9,
   "metadata": {},
   "outputs": [
    {
     "name": "stdout",
     "output_type": "stream",
     "text": [
      "\n",
      "x_train\t is \t(20100, 195075)\n",
      "x_test\t is \t(9900, 195075)\n",
      "y_train\t is \t(20100,)\n",
      "y_test\t is \t(9900,)\n",
      "\n",
      "x_train takes up 3.92 GB of memory\n",
      "\n"
     ]
    }
   ],
   "source": [
    "from helper import split_data\n",
    "\n",
    "x_train, x_test, y_train, y_test = split_data(x, y)\n",
    "\n",
    "print(f\"\"\"\n",
    "x_train\\t is \\t{x_train.shape}\n",
    "x_test\\t is \\t{x_test.shape}\n",
    "y_train\\t is \\t{y_train.shape}\n",
    "y_test\\t is \\t{y_test.shape}\n",
    "\n",
    "x_train takes up {x_train.nbytes/1e9:,.2f} GB of memory\n",
    "\"\"\")\n"
   ]
  }
 ],
 "metadata": {
  "kernelspec": {
   "display_name": ".venv",
   "language": "python",
   "name": "python3"
  },
  "language_info": {
   "codemirror_mode": {
    "name": "ipython",
    "version": 3
   },
   "file_extension": ".py",
   "mimetype": "text/x-python",
   "name": "python",
   "nbconvert_exporter": "python",
   "pygments_lexer": "ipython3",
   "version": "3.11.4"
  },
  "orig_nbformat": 4
 },
 "nbformat": 4,
 "nbformat_minor": 2
}
