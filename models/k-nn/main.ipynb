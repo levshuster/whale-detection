{
 "cells": [
  {
   "cell_type": "code",
   "execution_count": 50,
   "metadata": {},
   "outputs": [
    {
     "name": "stdout",
     "output_type": "stream",
     "text": [
      "Requirement already satisfied: pandas in /Users/lshuster/Library/CloudStorage/OneDrive-GlobalHealthcareExchange/Desktop/whale-detection/.venv/lib/python3.11/site-packages (2.2.0)\n",
      "Requirement already satisfied: numpy<2,>=1.23.2 in /Users/lshuster/Library/CloudStorage/OneDrive-GlobalHealthcareExchange/Desktop/whale-detection/.venv/lib/python3.11/site-packages (from pandas) (1.26.4)\n",
      "Requirement already satisfied: python-dateutil>=2.8.2 in /Users/lshuster/Library/CloudStorage/OneDrive-GlobalHealthcareExchange/Desktop/whale-detection/.venv/lib/python3.11/site-packages (from pandas) (2.8.2)\n",
      "Requirement already satisfied: pytz>=2020.1 in /Users/lshuster/Library/CloudStorage/OneDrive-GlobalHealthcareExchange/Desktop/whale-detection/.venv/lib/python3.11/site-packages (from pandas) (2024.1)\n",
      "Requirement already satisfied: tzdata>=2022.7 in /Users/lshuster/Library/CloudStorage/OneDrive-GlobalHealthcareExchange/Desktop/whale-detection/.venv/lib/python3.11/site-packages (from pandas) (2024.1)\n",
      "Requirement already satisfied: six>=1.5 in /Users/lshuster/Library/CloudStorage/OneDrive-GlobalHealthcareExchange/Desktop/whale-detection/.venv/lib/python3.11/site-packages (from python-dateutil>=2.8.2->pandas) (1.16.0)\n",
      "Note: you may need to restart the kernel to use updated packages.\n",
      "Note: you may need to restart the kernel to use updated packages.\n"
     ]
    }
   ],
   "source": [
    "%pip install pandas\n",
    "%pip freeze > requirements.txt"
   ]
  },
  {
   "attachments": {},
   "cell_type": "markdown",
   "metadata": {},
   "source": [
    "# Generate x_train, x_test, y_train, y_test"
   ]
  },
  {
   "cell_type": "code",
   "execution_count": 51,
   "metadata": {},
   "outputs": [
    {
     "name": "stdout",
     "output_type": "stream",
     "text": [
      "(10000, 255, 255, 3)\n"
     ]
    },
    {
     "data": {
      "text/plain": [
       "(10000, 195075)"
      ]
     },
     "execution_count": 51,
     "metadata": {},
     "output_type": "execute_result"
    }
   ],
   "source": [
    "# Generate X\n",
    "\n",
    "from PIL import Image\n",
    "import numpy as np\n",
    "import glob\n",
    "\n",
    "def get_list_of_files(source_path:str) -> list[str]:\n",
    "\ttrain_files= glob.glob(source_path+'train*.png')\n",
    "\ttrain_files = [(int(i[len(source_path)+5:-4]), i) for i in glob.glob(source_path+'train*.png')]\n",
    "\ttrain_files.sort()\n",
    "\treturn [i[1] for i in train_files]\n",
    "\n",
    "# pngs = get_list_of_files('../../input/images/2000-samples/')\n",
    "pngs = get_list_of_files('../../input/images/10000-samples/')\n",
    "# pngs = get_list_of_files('../../input/images/train_png/')\n",
    "x = np.array([np.asarray(Image.open(i))[:,:,:3] for i in pngs])\n",
    "print(x.shape)\n",
    "\n",
    "x = x.reshape(x.shape[0], -1)\n",
    "x.shape"
   ]
  },
  {
   "cell_type": "code",
   "execution_count": 52,
   "metadata": {},
   "outputs": [
    {
     "name": "stdout",
     "output_type": "stream",
     "text": [
      "1 -> Whale Present\n"
     ]
    },
    {
     "data": {
      "text/plain": [
       "(10000,)"
      ]
     },
     "execution_count": 52,
     "metadata": {},
     "output_type": "execute_result"
    }
   ],
   "source": [
    "# Generate Y\n",
    "\n",
    "import pandas\n",
    "\n",
    "def y_int_to_str(y:int) -> str:\n",
    "\tmatch y:\n",
    "\t\tcase 0: return \"No Whale\"\n",
    "\t\tcase 1: return \"Whale Present\"\n",
    "\t\tcase _: raise ValueError(\"Unrecognized label\")\n",
    "print(f\"1 -> {y_int_to_str(1)}\")\n",
    "\n",
    "y = pandas.read_csv('../../input/audio/data/train.csv')\n",
    "y = y[\"label\"][:len(x)]\n",
    "y.shape"
   ]
  },
  {
   "cell_type": "code",
   "execution_count": 53,
   "metadata": {},
   "outputs": [
    {
     "name": "stdout",
     "output_type": "stream",
     "text": [
      "\n",
      "x_train\t is \t(6700, 195075)\n",
      "x_test\t is \t(3300, 195075)\n",
      "y_train\t is \t(6700,)\n",
      "y_test\t is \t(3300,)\n",
      "\n",
      "x_train takes up 1.31 GB of memory\n",
      "\n"
     ]
    }
   ],
   "source": [
    "# Generate Train and Test\n",
    "from sklearn.model_selection import train_test_split\n",
    "x_train, x_test, y_train, y_test = train_test_split(\n",
    "\tx,\n",
    "\ty,\n",
    "\ttest_size=0.33,\n",
    "\trandom_state=4,\n",
    "\tstratify=y\n",
    ")\n",
    "\n",
    "print(f\"\"\"\n",
    "x_train\\t is \\t{x_train.shape}\n",
    "x_test\\t is \\t{x_test.shape}\n",
    "y_train\\t is \\t{y_train.shape}\n",
    "y_test\\t is \\t{y_test.shape}\n",
    "\n",
    "x_train takes up {x_train.nbytes/1e9:,.2f} GB of memory\n",
    "\"\"\")\n"
   ]
  },
  {
   "attachments": {},
   "cell_type": "markdown",
   "metadata": {},
   "source": [
    "# K-NN"
   ]
  },
  {
   "attachments": {},
   "cell_type": "markdown",
   "metadata": {},
   "source": [
    "## Basic K-NN"
   ]
  },
  {
   "cell_type": "code",
   "execution_count": 54,
   "metadata": {},
   "outputs": [
    {
     "name": "stdout",
     "output_type": "stream",
     "text": [
      "Accuracy: 80.79%\n"
     ]
    }
   ],
   "source": [
    "# Create Model, Save Model, and Find Accuracy\n",
    "\n",
    "from sklearn.neighbors import KNeighborsClassifier\n",
    "import os\n",
    "import pickle\n",
    "\n",
    "models_folder = 'models'\n",
    "n_neighbors=5\n",
    "\n",
    "shared_title = f'{n_neighbors}-{len(y)}'\n",
    "if not os.path.exists(models_folder): os.makedirs(models_folder)\n",
    "\n",
    "title = f'{shared_title}-NN_simple.pkl'\n",
    "file = f'{models_folder}/{title}'\n",
    "if title not in os.listdir(models_folder):\n",
    "\tmodel = KNeighborsClassifier(\n",
    "\t\tn_neighbors=n_neighbors,\n",
    "\t\tn_jobs=-1,\n",
    "\t\talgorithm='kd_tree',\n",
    "\t)\n",
    "\tmodel.fit(\n",
    "\t\tx_train, \n",
    "\t\ty_train\n",
    "\t)\n",
    "\twith open(file, 'wb') as f:\n",
    "\t\tpickle.dump(model, f)\n",
    "else:\n",
    "\twith open(file, 'rb') as f: model = pickle.load(f)\n",
    "\n",
    "title = f'{shared_title}-NN_simple_acc.pkl'\n",
    "file = f'{models_folder}/{title}'\n",
    "if title not in os.listdir(models_folder):\n",
    "\tacc = model.score(\n",
    "\t\tx_test, \n",
    "\t\ty_test\n",
    "\t)\n",
    "\t# pickle accuracy\n",
    "\twith open(file, 'w') as f:\n",
    "\t\tf.write(str(acc))\n",
    "else:\n",
    "\twith open(file, 'r') as f: acc = float(f.read())\n",
    "\n",
    "print(\"Accuracy: {:.2f}%\".format(acc * 100))\n",
    "\n",
    "title = f'{shared_title}-NN_simple_pred.pkl'\n",
    "file = f'{models_folder}/{title}'\n",
    "if title not in os.listdir(models_folder):\n",
    "\ty_pred = model.predict(x_test)\n",
    "\twith open(file, 'wb') as f:\n",
    "\t\tpickle.dump(y_pred, f)\n",
    "else:\n",
    "\twith open(file, 'rb') as f: y_pred = pickle.load(f)"
   ]
  },
  {
   "cell_type": "code",
   "execution_count": 55,
   "metadata": {},
   "outputs": [
    {
     "data": {
      "image/png": "[encoded data removed]",
      "text/plain": [
       "<Figure size 640x480 with 2 Axes>"
      ]
     },
     "metadata": {},
     "output_type": "display_data"
    },
    {
     "data": {
      "image/png": "[encoded data removed]",
      "text/plain": [
       "<Figure size 640x480 with 2 Axes>"
      ]
     },
     "metadata": {},
     "output_type": "display_data"
    }
   ],
   "source": [
    "# Confusion Matrix\n",
    "\n",
    "import seaborn as sns\n",
    "import matplotlib.pyplot as plt\n",
    "from sklearn.metrics import confusion_matrix\n",
    "\n",
    "cf_matrix = confusion_matrix(y_test, y_pred)\n",
    "labels = ['No Whale','Whale Present']\n",
    "\n",
    "sns.heatmap(\n",
    "\tcf_matrix, \n",
    "\tannot=True,\n",
    "\tfmt='d',\n",
    "\txticklabels=labels,\n",
    "\tyticklabels=labels,\n",
    "\tcmap='Blues'\n",
    ").set(\n",
    "\txlabel='Prediction',\n",
    "\tylabel='Actual'\n",
    ")\n",
    "plt.show()\n",
    "\n",
    "sns.heatmap(\n",
    "\tcf_matrix/np.sum(cf_matrix), \n",
    "\tannot=True,\n",
    "\tfmt='.2%',\n",
    "\txticklabels=labels,\n",
    "\tyticklabels=labels,\n",
    "\tcmap='Blues'\n",
    ").set(\n",
    "\txlabel='Prediction',\n",
    "\tylabel='Actual'\n",
    ")\n",
    "plt.show()\n"
   ]
  },
  {
   "attachments": {},
   "cell_type": "markdown",
   "metadata": {},
   "source": [
    "Using K-NN on 2000 samples:\n",
    "- If there is a whale present, there is only a 50% chance of identifying it.\n",
    "- If there is no whale present, there is only a 2% chance that the algorithm incorrectly identifies a whale.\n",
    "\n",
    "Using K-NN on 30000 samples (all samples):\n",
    "- If there is a whale present, there is only a 75% chance of identifying it.\n",
    "- If there is no whale present, there is a 10% chance that the algorithm incorrectly identifies a whale."
   ]
  },
  {
   "attachments": {},
   "cell_type": "markdown",
   "metadata": {},
   "source": [
    "## KD-Tree"
   ]
  },
  {
   "attachments": {},
   "cell_type": "markdown",
   "metadata": {},
   "source": [
    "## Cross-validation to find the best k"
   ]
  }
 ],
 "metadata": {
  "kernelspec": {
   "display_name": ".venv",
   "language": "python",
   "name": "python3"
  },
  "language_info": {
   "codemirror_mode": {
    "name": "ipython",
    "version": 3
   },
   "file_extension": ".py",
   "mimetype": "text/x-python",
   "name": "python",
   "nbconvert_exporter": "python",
   "pygments_lexer": "ipython3",
   "version": "3.11.4"
  },
  "orig_nbformat": 4
 },
 "nbformat": 4,
 "nbformat_minor": 2
}
