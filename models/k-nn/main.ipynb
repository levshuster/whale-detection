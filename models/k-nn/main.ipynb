{
 "cells": [
  {
   "cell_type": "code",
   "execution_count": 2,
   "metadata": {},
   "outputs": [
    {
     "name": "stdout",
     "output_type": "stream",
     "text": [
      "Requirement already satisfied: Pyarrow in /Users/lshuster/Library/CloudStorage/OneDrive-GlobalHealthcareExchange/Desktop/whale-detection/.venv/lib/python3.11/site-packages (15.0.0)\n",
      "Requirement already satisfied: numpy<2,>=1.16.6 in /Users/lshuster/Library/CloudStorage/OneDrive-GlobalHealthcareExchange/Desktop/whale-detection/.venv/lib/python3.11/site-packages (from Pyarrow) (1.26.4)\n",
      "Note: you may need to restart the kernel to use updated packages.\n",
      "Note: you may need to restart the kernel to use updated packages.\n"
     ]
    }
   ],
   "source": [
    "%pip install Pyarrow\n",
    "%pip freeze > requirements.txt"
   ]
  },
  {
   "attachments": {},
   "cell_type": "markdown",
   "metadata": {},
   "source": [
    "# Generate x_train, x_test, y_train, y_test"
   ]
  },
  {
   "cell_type": "code",
   "execution_count": 3,
   "metadata": {},
   "outputs": [],
   "source": [
    "from PIL import Image\n",
    "import numpy as np\n",
    "import glob\n",
    "\n",
    "def get_list_of_files(source_path:str) -> list[str]:\n",
    "\ttrain_files= glob.glob(source_path+'train*.png')\n",
    "\ttrain_files = [(int(i[len(source_path)+5:-4]), i) for i in glob.glob(source_path+'train*.png')]\n",
    "\ttrain_files.sort()\n",
    "\treturn [i[1] for i in train_files]"
   ]
  },
  {
   "cell_type": "code",
   "execution_count": 8,
   "metadata": {},
   "outputs": [
    {
     "name": "stdout",
     "output_type": "stream",
     "text": [
      "(2000, 255, 255, 3)\n"
     ]
    },
    {
     "data": {
      "text/plain": [
       "(2000, 195075)"
      ]
     },
     "execution_count": 8,
     "metadata": {},
     "output_type": "execute_result"
    }
   ],
   "source": [
    "pngs = get_list_of_files('../../input/images/2000-samples/')\n",
    "x = np.array([np.asarray(Image.open(i))[:,:,:3] for i in pngs])\n",
    "print(x.shape)\n",
    "\n",
    "x = x.reshape(x.shape[0], -1)\n",
    "x.shape"
   ]
  },
  {
   "cell_type": "code",
   "execution_count": 9,
   "metadata": {},
   "outputs": [
    {
     "name": "stdout",
     "output_type": "stream",
     "text": [
      "Whale Present\n"
     ]
    },
    {
     "data": {
      "text/plain": [
       "(2000,)"
      ]
     },
     "execution_count": 9,
     "metadata": {},
     "output_type": "execute_result"
    }
   ],
   "source": [
    "import pandas\n",
    "\n",
    "def y_int_to_str(y:int) -> str:\n",
    "\tmatch y:\n",
    "\t\tcase 0: return \"No Whale\"\n",
    "\t\tcase 1: return \"Whale Present\"\n",
    "\t\tcase _: raise ValueError(\"Unrecognized label\")\n",
    "print(y_int_to_str(1))\n",
    "\n",
    "y = pandas.read_csv('../../input/audio/data/train.csv')\n",
    "y = y[\"label\"][:len(x)]\n",
    "y.shape"
   ]
  },
  {
   "cell_type": "code",
   "execution_count": 10,
   "metadata": {},
   "outputs": [
    {
     "data": {
      "text/plain": [
       "((1340, 195075), (660, 195075), (1340,), (660,))"
      ]
     },
     "execution_count": 10,
     "metadata": {},
     "output_type": "execute_result"
    }
   ],
   "source": [
    "from sklearn.model_selection import train_test_split\n",
    "\n",
    "x_train, x_test, y_train, y_test = train_test_split(\n",
    "\tx,\n",
    "\ty,\n",
    "\ttest_size=0.33,\n",
    "\trandom_state=4,\n",
    "\tstratify=y\n",
    ")\n",
    "\n",
    "x_train.shape, x_test.shape, y_train.shape, y_test.shape"
   ]
  },
  {
   "attachments": {},
   "cell_type": "markdown",
   "metadata": {},
   "source": [
    "# K-NN"
   ]
  },
  {
   "attachments": {},
   "cell_type": "markdown",
   "metadata": {},
   "source": [
    "## Basic K-NN"
   ]
  },
  {
   "attachments": {},
   "cell_type": "markdown",
   "metadata": {},
   "source": [
    "## Cross-validation to find the best k"
   ]
  }
 ],
 "metadata": {
  "kernelspec": {
   "display_name": ".venv",
   "language": "python",
   "name": "python3"
  },
  "language_info": {
   "codemirror_mode": {
    "name": "ipython",
    "version": 3
   },
   "file_extension": ".py",
   "mimetype": "text/x-python",
   "name": "python",
   "nbconvert_exporter": "python",
   "pygments_lexer": "ipython3",
   "version": "3.11.4"
  },
  "orig_nbformat": 4
 },
 "nbformat": 4,
 "nbformat_minor": 2
}
